{
  "nbformat": 4,
  "nbformat_minor": 0,
  "metadata": {
    "colab": {
      "name": "Aryan2_to_Unicode_map.ipynb",
      "provenance": []
    },
    "kernelspec": {
      "name": "python3",
      "display_name": "Python 3"
    },
    "language_info": {
      "name": "python"
    }
  },
  "cells": [
    {
      "cell_type": "markdown",
      "metadata": {
        "id": "F-_nz0PLwHSi"
      },
      "source": [
        "### **Aryan2 to Unicode Map**"
      ]
    },
    {
      "cell_type": "markdown",
      "metadata": {
        "id": "jOzeC_KL70jk"
      },
      "source": [
        "#### **Dictionaries**"
      ]
    },
    {
      "cell_type": "markdown",
      "metadata": {
        "id": "1wakIvzjhr6W"
      },
      "source": [
        "##### **Vowels**"
      ]
    },
    {
      "cell_type": "code",
      "metadata": {
        "id": "66Vn8OKDIEPB"
      },
      "source": [
        "#  Vowels\n",
        "\n",
        "vowels = {\n",
        "    \"Â\" : b\"\\xe0\\xa5\\x8d\",       # aadha\n",
        "    # b\"\" : b\"\",       # \n",
        "    # b\"\" : b\"\",       # au\n",
        "    # b\"\" : b\"\",       # ooo\n",
        "    \"+ÉÉä\" : b\"\\xe0\\xa4\\x93\",       # o\n",
        "    # b\"\" : b\"\\xe0\\xa4\\x90\",       # aee\n",
        "    \"+ÉÉì\" : b\"\\xe0\\xa4\\x91\",       # aw\n",
        "    \"+ÉÉè\" : b\"\\xe0\\xa4\\x94\",      # aau\n",
        "    \"Aä\" : b\"\\xe0\\xa4\\x8e\",       # ae\n",
        "    \">ó\" : b\"\\xe0\\xa4\\x8a\",       # uuu\n",
        "    \"<Ç\" : b\"\\xe0\\xa4\\x88\",       # eee\n",
        "    \"+ÉÉ\" : b\"\\xe0\\xa4\\x86\",       # aa\n",
        "    \"+É\" : b\"\\xe0\\xa4\\x85\",       # a\n",
        "}"
      ],
      "execution_count": null,
      "outputs": []
    },
    {
      "cell_type": "code",
      "metadata": {
        "id": "uDfDj7yi322g"
      },
      "source": [
        "# halfVowels with extra care\n",
        "\n",
        "vowelsExtraCare = {\n",
        "    \"*\" : b\"\\xe0\\xa5\\xa4\",       # purna-viraam\n",
        "    \"A\" : b\"\\xe0\\xa4\\x8f\",       # ai\n",
        "    \">\" : b\"\\xe0\\xa4\\x8a\",       # uuu\n",
        "    \"=\" : b\"\\xe0\\xa4\\x89\",       # uu\n",
        "    \"<\" : b\"\\xe0\\xa4\\x87\",       # ee\n",
        "}"
      ],
      "execution_count": null,
      "outputs": []
    },
    {
      "cell_type": "markdown",
      "metadata": {
        "id": "ccvBiu1Pw2aa"
      },
      "source": [
        "##### **Consonants**"
      ]
    },
    {
      "cell_type": "code",
      "metadata": {
        "id": "H6TpGlKbzV2q"
      },
      "source": [
        "# consonants with extra care\n",
        "\n",
        "consonantsExtraCare = {\n",
        "    \"R\" : b\"\\xe0\\xa4\\x99\",       # nga\n",
        "    \"c\" : b\"\\xe0\\xa4\\xb9\",       # ha\n",
        "    \"U\" : b\"\\xe0\\xa4\\x9b\",       # chha\n",
        "    \"]\" : b\"\\xe0\\xa4\\x9f\",       # tta\n",
        "    \"~\" : b\"\\xe0\\xa4\\xa0\",       # ttha\n",
        "    \"b\" : b\"\\xe0\\xa4\\xa1\",       # dda\n",
        "    \"f\" : b\"\\xe0\\xa4\\xa2\",       # ddha\n",
        "    \"n\" : b\"\\xe0\\xa4\\xa6\",       # da\n",
        "}"
      ],
      "execution_count": null,
      "outputs": []
    },
    {
      "cell_type": "code",
      "metadata": {
        "id": "XPmMWbctwMmq"
      },
      "source": [
        "# Aryan2 to Unicode Map for consonants\n",
        "\n",
        "consonants = {\n",
        "    \"ÉÌBÉE\" : b\"\\xe0\\xa4\\xb0\" + vowels[\"Â\"] + b\"\\xe0\\xa4\\x95\" + b\"\\xe0\\xa4\\xbf\",       # kri\n",
        "    \"#ÉEÉ\" : b\"\\xe0\\xa4\\x95\\xe0\\xa5\\x8d\\xe0\\xa4\\xb0\\xe0\\xa4\\xbe\",       # kra\n",
        "    \"BÉäE\" : b\"\\xe0\\xa4\\x95\\xe0\\xa5\\x87\",       # ke\n",
        "    \"BÉßE\" : b\"\\xe0\\xa4\\x95\\xe0\\xa5\\x83\",       # kru\n",
        "    \"BÉÖE\" : b\"\\xe0\\xa4\\x95\\xe0\\xa5\\x81\",       # ku\n",
        "    \"BÉE\" : b\"\\xe0\\xa4\\x95\",       # ka\n",
        "    \"JÉ\" : b\"\\xe0\\xa4\\x96\",       #kha\n",
        "    \"MÉ\" : b\"\\xe0\\xa4\\x97\",       # ga\n",
        "    \"PÉ\" : b\"\\xe0\\xa4\\x98\",       # gha\n",
        "    \"SÉ\" : b\"\\xe0\\xa4\\x9a\",       # cha\n",
        "    \"VÉ\" : b\"\\xe0\\xa4\\x9c\",       # ja\n",
        "    \"ZÉ\" : b\"\\xe0\\xa4\\x9d\",       # jha\n",
        "    # b\"\" : b\"\",       # nya\n",
        "    \"½\" : b\"\\xe0\\xa5\\x9c\",      # ada\n",
        "    \"ªÉ\" : b\"\\xe0\\xa4\\xaf\",       # ya\n",
        "    \"¶É\" : b\"\\xe0\\xa4\\xb6\",       # sha\n",
        "    \"hÉ\" : b\"\\xe0\\xa4\\xa3\",       # nna\n",
        "    \"®\" : b\"\\xe0\\xa4\\xb0\",       # ra\n",
        "    \"−É\" : b\"\\xe0\\xa4\\xb7\",       # ssa\n",
        "    \"iÉ\" : b\"\\xe0\\xa4\\xa4\",       # ta\n",
        "    \"lÉ\" : b\"\\xe0\\xa4\\xa5\",       # tha\n",
        "    \"vÉ\" : b\"\\xe0\\xa4\\xa7\",       # dha\n",
        "    \"xÉ\" : b\"\\xe0\\xa4\\xa8\",       # na\n",
        "    \"ãÉ\" : b\"\\xe0\\xa4\\xb2\",      # la\n",
        "    \"ºÉ\" : b\"\\xe0\\xa4\\xb8\",       # sa\n",
        "    \"{ÉE\" : b\"\\xe0\\xa4\\xab\",       # fa\n",
        "    \"{ÉD\" : b\"\\xe0\\xa4\\xab\" + vowels[\"Â\"],       # f\n",
        "    \"{É\" : b\"\\xe0\\xa4\\xaa\",      # pa\n",
        "    \"¤É\" : b\"\\xe0\\xa4\\xac\",       # ba\n",
        "    \"£É\" : b\"\\xe0\\xa4\\xad\",       # bha\n",
        "    \"àÉ\" : b\"\\xe0\\xa4\\xae\",       # ma\n",
        "    \"´É\" : b\"\\xe0\\xa4\\xb5\",       # va\n",
        "    \"bÅ\" : consonantsExtraCare[\"b\"] + vowels[\"Â\"] + b\"\\xe0\\xa4\\xb0\",       # ddra\n",
        "    \"]Å\" : b\"\\xe0\\xa4\\x9f\" + vowels[\"Â\"] + b\"\\xe0\\xa4\\xb0\",       # ttra\n",
        "}"
      ],
      "execution_count": null,
      "outputs": []
    },
    {
      "cell_type": "code",
      "metadata": {
        "id": "YBmZV5GiyOXB"
      },
      "source": [
        "# Alag se aadha\n",
        "\n",
        "halfConsonants = {\n",
        "    \"BÉD\" : consonants[\"BÉE\"] + vowels[\"Â\"],       # k\n",
        "    \"ª\" : b\"\\xe0\\xa4\\xaf\" + vowels[\"Â\"],       # y\n",
        "    \"¶\" : b\"\\xe0\\xa4\\xb6\" + vowels[\"Â\"],       # sh\n",
        "    \"−\" : b\"\\xe0\\xa4\\xb7\" + vowels[\"Â\"],       # ss\n",
        "    \"ã\" : b\"\\xe0\\xa4\\xb2\" + vowels[\"Â\"],      # l\n",
        "    \"º\" : b\"\\xe0\\xa4\\xb8\" + vowels[\"Â\"],       # s\n",
        "    \"¤\" : b\"\\xe0\\xa4\\xac\" + vowels[\"Â\"],       # b\n",
        "    \"£\" : b\"\\xe0\\xa4\\xad\" + vowels[\"Â\"],       # bh\n",
        "    \"à\" : b\"\\xe0\\xa4\\xae\" + vowels[\"Â\"],       # m\n",
        "    \"´\" : b\"\\xe0\\xa4\\xb5\" + vowels[\"Â\"],       # v\n",
        "    \"B\" : b\"\\xe0\\xa4\\xb5\" + vowels[\"Â\"],       # v\n",
        "}"
      ],
      "execution_count": null,
      "outputs": []
    },
    {
      "cell_type": "code",
      "metadata": {
        "id": "H2ZCV1ZS3Ov3"
      },
      "source": [
        "# halfConsonants with extra care\n",
        "\n",
        "halfConsonantsExtraCare = {\n",
        "    \"J\" : b\"\\xe0\\xa4\\x96\" + vowels[\"Â\"],       # kh\n",
        "    \"M\" : b\"\\xe0\\xa4\\x97\" + vowels[\"Â\"],       # g\n",
        "    \"P\" : b\"\\xe0\\xa4\\x98\" + vowels[\"Â\"],       # gh\n",
        "    \"S\" : b\"\\xe0\\xa4\\x9a\" + vowels[\"Â\"],       # ch\n",
        "    \"V\" : b\"\\xe0\\xa4\\x9c\" + vowels[\"Â\"],       # j\n",
        "    \"Z\" : b\"\\xe0\\xa4\\x9d\" + vowels[\"Â\"],       # jh\n",
        "    \"i\" : b\"\\xe0\\xa4\\xa4\" + vowels[\"Â\"],       # t\n",
        "    \"l\" : b\"\\xe0\\xa4\\xa5\" + vowels[\"Â\"],       # th\n",
        "    \"v\" : b\"\\xe0\\xa4\\xa7\" + vowels[\"Â\"],       # dh\n",
        "    \"x\" : b\"\\xe0\\xa4\\xa8\" + vowels[\"Â\"],       # n\n",
        "    \"{\" : b\"\\xe0\\xa4\\xaa\" + vowels[\"Â\"],      # p\n",
        "    \"h\" : b\"\\xe0\\xa4\\xa3\" + vowels[\"Â\"],       # nn\n",
        "}"
      ],
      "execution_count": null,
      "outputs": []
    },
    {
      "cell_type": "markdown",
      "metadata": {
        "id": "94MXjoCmh2jO"
      },
      "source": [
        "##### **Maatras**"
      ]
    },
    {
      "cell_type": "code",
      "metadata": {
        "id": "ZAeBlwvBY5Ow"
      },
      "source": [
        "# baadme aane wali maatra\n",
        "\n",
        "maatrasPiche = {\n",
        "    \"Ã\" : b\"\\xe0\\xa4\\xbc\",       # nukta\n",
        "    \"Þ\" : b'\\x22',       # double quote\n",
        "    \"&\" : b\"\\xe0\\xa4\\x83\",       #aha\n",
        "    \"ì\" : b\"\\xe0\\xa5\\x85\",       # chandra\n",
        "    \"é\" : b\"\\xe0\\xa5\\x88\\xe0\\xa4\\x82\",       # aain\n",
        "    \"Ú\" : b\"\\xe0\\xa5\\x82\",       # bada uu\n",
        "    \"Ö\" : b\"\\xe0\\xa5\\x81\",       # chota uu\n",
        "    \"Éå\" : b\"\\xe0\\xa5\\x8b\\xe0\\xa4\\x82\",       # on\n",
        "    \"ÉÒ\" : b\"\\xe0\\xa5\\x80\",       # badi ee\n",
        "    \"ÉÓ\" : b\"\\xe0\\xa5\\x80\",       # badi ee\n",
        "    \"Éä\" : b\"\\xe0\\xa5\\x8b\",       # O\n",
        "    \"è\" : b\"\\xe0\\xa5\\x88\",       # au\n",
        "    \"ä\" : b\"\\xe0\\xa5\\x87\",       # ae\n",
        "    \"É\" : b\"\\xe0\\xa4\\xbe\",       # aa danda\n",
        "    \"å\" : b\"\\xe0\\xa5\\x87\\xe0\\xa4\\x82\",       # aen\n",
        "    \"Æ\" : b\"\\xe0\\xa4\\x82\",       # anusvaraa\n",
        "    \"ß\" : b\"\\xe0\\xa5\\x83\",       # niche wali ra ki maatra\n",
        "}"
      ],
      "execution_count": null,
      "outputs": []
    },
    {
      "cell_type": "code",
      "metadata": {
        "id": "jhcMeNLMNVIV"
      },
      "source": [
        "# pehle aane wali maatra\n",
        "\n",
        "maatrasAage = {\n",
        "    \"ÉÊ\" : b\"\\xe0\\xa4\\xbf\",       # choti ee\n",
        "    \"ÉÎ\" : b\"\\xe0\\xa4\\xbf\",       # choti ee\n",
        "    \"ÉË\" : b\"\\xe0\\xa4\\xbf\" + maatrasPiche[\"Æ\"],       # ein\n",
        "    \"ÉÌ\" : b\"\\xe0\\xa4\\xbf\" + consonants[\"®\"] + vowels[\"Â\"],       # choti ee + upar wali ra ki maatra\n",
        "}"
      ],
      "execution_count": null,
      "outputs": []
    },
    {
      "cell_type": "code",
      "metadata": {
        "id": "Ar26VOS-lnHs"
      },
      "source": [
        "# jo pehle aani chahiye but baadme aayi hain\n",
        "\n",
        "maatrasPicheAage = {\n",
        "    \"Ç\" : b\"\\xe0\\xa4\\xb0\\xe0\\xa5\\x8d\",       # upar wali ra ki maatra\n",
        "}"
      ],
      "execution_count": null,
      "outputs": []
    },
    {
      "cell_type": "markdown",
      "metadata": {
        "id": "nNdS1wl9hzqP"
      },
      "source": [
        "##### **Conjuncts**"
      ]
    },
    {
      "cell_type": "code",
      "metadata": {
        "id": "Z8Oj-2E-a-pt"
      },
      "source": [
        "# Conjuncts\n",
        "\n",
        "conjucts = {\n",
        "    \"kÉ\" : consonants[\"iÉ\"] + vowels[\"Â\"] + consonants[\"iÉ\"],       # aadha ta + ta\n",
        "    \"µÉE\" : b\"\\xe0\\xa4\\x95\" + vowels[\"Â\"] + b\"\\xe0\\xa4\\xb0\",       # kra\n",
        "    \"FÉ\" : consonants[\"BÉE\"] + vowels[\"Â\"] + consonants[\"−É\"],      # ksha\n",
        "    \"|É\" : consonants[\"{É\"] + vowels[\"Â\"] + consonants[\"®\"],       # pra\n",
        "    \"jÉ\" : consonants[\"iÉ\"] + vowels[\"Â\"] + consonants[\"®\"],       # tra\n",
        "    \"°ô\" : consonants[\"®\"] + maatrasPiche[\"Ú\"],       # ruu\n",
        "    \"gÉ\" : consonants[\"¶É\"] + vowels[\"Â\"] + consonants[\"®\"],       # shra\n",
        "    \"OÉ\" : consonants[\"MÉ\"] + vowels[\"Â\"] + consonants[\"®\"],       # gra\n",
        "    \"tÉ\" : consonantsExtraCare[\"n\"] + vowels[\"Â\"] + consonants[\"ªÉ\"],       # dya\n",
        "    \"âó\" : consonants[\"®\"] + maatrasPiche[\"Ö\"],       # ru\n",
        "    \"QÉ\" : consonants[\"PÉ\"] + vowels[\"Â\"] + consonants[\"®\"],       # ghra\n",
        "    \"¥É\" : consonants[\"¤É\"] + vowels[\"Â\"] + consonants[\"®\"],       # bra\n",
        "    \"©É\" : consonants[\"àÉ\"] + vowels[\"Â\"] + consonants[\"®\"],       # mra\n",
        "}"
      ],
      "execution_count": null,
      "outputs": []
    },
    {
      "cell_type": "code",
      "metadata": {
        "id": "NwKkUUONsxa-"
      },
      "source": [
        "# extra care conjucts\n",
        "\n",
        "conjuctsExtraCare = {\n",
        "    \"r\" : consonantsExtraCare[\"n\"] + vowels[\"Â\"] + consonants[\"vÉ\"],       # da + dha\n",
        "    \"p\" : consonantsExtraCare[\"n\"] + vowels[\"Â\"] + consonants[\"®\"],       # dra\n",
        "    \"u\" : consonantsExtraCare[\"n\"] + vowels[\"Â\"] + consonants[\"´É\"],       # dva\n",
        "}"
      ],
      "execution_count": null,
      "outputs": []
    },
    {
      "cell_type": "markdown",
      "metadata": {
        "id": "mCIWKgnxh5zO"
      },
      "source": [
        "#### **Text Processing**"
      ]
    },
    {
      "cell_type": "markdown",
      "metadata": {
        "id": "qxbnYaTPSL4P"
      },
      "source": [
        "##### **Installations**"
      ]
    },
    {
      "cell_type": "code",
      "metadata": {
        "colab": {
          "base_uri": "https://localhost:8080/"
        },
        "id": "scVLzoyihn9I",
        "outputId": "837c3581-852b-45e9-b127-3207ba6346c3"
      },
      "source": [
        "!pip install PyMuPDF\n",
        "!pip install easyocr"
      ],
      "execution_count": null,
      "outputs": [
        {
          "output_type": "stream",
          "name": "stdout",
          "text": [
            "Collecting PyMuPDF\n",
            "  Downloading PyMuPDF-1.18.19-cp37-cp37m-manylinux_2_12_x86_64.manylinux2010_x86_64.whl (6.4 MB)\n",
            "\u001b[K     |████████████████████████████████| 6.4 MB 24.3 MB/s \n",
            "\u001b[?25hInstalling collected packages: PyMuPDF\n",
            "Successfully installed PyMuPDF-1.18.19\n",
            "Collecting easyocr\n",
            "  Downloading easyocr-1.4.1-py3-none-any.whl (63.6 MB)\n",
            "\u001b[K     |████████████████████████████████| 63.6 MB 19 kB/s \n",
            "\u001b[?25hRequirement already satisfied: scipy in /usr/local/lib/python3.7/dist-packages (from easyocr) (1.4.1)\n",
            "Requirement already satisfied: torchvision>=0.5 in /usr/local/lib/python3.7/dist-packages (from easyocr) (0.10.0+cu111)\n",
            "Requirement already satisfied: Pillow<8.3.0 in /usr/local/lib/python3.7/dist-packages (from easyocr) (7.1.2)\n",
            "Requirement already satisfied: scikit-image in /usr/local/lib/python3.7/dist-packages (from easyocr) (0.16.2)\n",
            "Collecting python-bidi\n",
            "  Downloading python_bidi-0.4.2-py2.py3-none-any.whl (30 kB)\n",
            "Requirement already satisfied: torch in /usr/local/lib/python3.7/dist-packages (from easyocr) (1.9.0+cu111)\n",
            "Requirement already satisfied: PyYAML in /usr/local/lib/python3.7/dist-packages (from easyocr) (3.13)\n",
            "Collecting opencv-python-headless\n",
            "  Downloading opencv_python_headless-4.5.3.56-cp37-cp37m-manylinux2014_x86_64.whl (37.1 MB)\n",
            "\u001b[K     |████████████████████████████████| 37.1 MB 56 kB/s \n",
            "\u001b[?25hRequirement already satisfied: numpy in /usr/local/lib/python3.7/dist-packages (from easyocr) (1.19.5)\n",
            "Requirement already satisfied: typing-extensions in /usr/local/lib/python3.7/dist-packages (from torch->easyocr) (3.7.4.3)\n",
            "Requirement already satisfied: six in /usr/local/lib/python3.7/dist-packages (from python-bidi->easyocr) (1.15.0)\n",
            "Requirement already satisfied: networkx>=2.0 in /usr/local/lib/python3.7/dist-packages (from scikit-image->easyocr) (2.6.3)\n",
            "Requirement already satisfied: PyWavelets>=0.4.0 in /usr/local/lib/python3.7/dist-packages (from scikit-image->easyocr) (1.1.1)\n",
            "Requirement already satisfied: matplotlib!=3.0.0,>=2.0.0 in /usr/local/lib/python3.7/dist-packages (from scikit-image->easyocr) (3.2.2)\n",
            "Requirement already satisfied: imageio>=2.3.0 in /usr/local/lib/python3.7/dist-packages (from scikit-image->easyocr) (2.4.1)\n",
            "Requirement already satisfied: python-dateutil>=2.1 in /usr/local/lib/python3.7/dist-packages (from matplotlib!=3.0.0,>=2.0.0->scikit-image->easyocr) (2.8.2)\n",
            "Requirement already satisfied: cycler>=0.10 in /usr/local/lib/python3.7/dist-packages (from matplotlib!=3.0.0,>=2.0.0->scikit-image->easyocr) (0.10.0)\n",
            "Requirement already satisfied: pyparsing!=2.0.4,!=2.1.2,!=2.1.6,>=2.0.1 in /usr/local/lib/python3.7/dist-packages (from matplotlib!=3.0.0,>=2.0.0->scikit-image->easyocr) (2.4.7)\n",
            "Requirement already satisfied: kiwisolver>=1.0.1 in /usr/local/lib/python3.7/dist-packages (from matplotlib!=3.0.0,>=2.0.0->scikit-image->easyocr) (1.3.2)\n",
            "Installing collected packages: python-bidi, opencv-python-headless, easyocr\n",
            "Successfully installed easyocr-1.4.1 opencv-python-headless-4.5.3.56 python-bidi-0.4.2\n"
          ]
        }
      ]
    },
    {
      "cell_type": "markdown",
      "metadata": {
        "id": "mtUasU3CSQ-m"
      },
      "source": [
        "##### **Processing**"
      ]
    },
    {
      "cell_type": "code",
      "metadata": {
        "id": "XTFaYuFgieB2"
      },
      "source": [
        "import re\n",
        "import fitz"
      ],
      "execution_count": null,
      "outputs": []
    },
    {
      "cell_type": "code",
      "metadata": {
        "id": "dTIOUIEliwha"
      },
      "source": [
        "doc = fitz.open(\"/content/drive/MyDrive/Lok Sabha Data/16/33.pdf\")"
      ],
      "execution_count": null,
      "outputs": []
    },
    {
      "cell_type": "code",
      "metadata": {
        "id": "bn5NltUGizu1"
      },
      "source": [
        "# page = doc.load_page(9)  # loads page number 'pno' of the document (0-based)\n",
        "page = doc[27]  # the short form"
      ],
      "execution_count": null,
      "outputs": []
    },
    {
      "cell_type": "code",
      "metadata": {
        "id": "u5Vgmn6oi5mf"
      },
      "source": [
        "x = page.get_text()"
      ],
      "execution_count": null,
      "outputs": []
    },
    {
      "cell_type": "code",
      "metadata": {
        "colab": {
          "base_uri": "https://localhost:8080/"
        },
        "id": "XExpPKqefEbC",
        "outputId": "3ac524a8-f60c-4836-b532-a1d87896f68f"
      },
      "source": [
        "ord('ध')"
      ],
      "execution_count": null,
      "outputs": [
        {
          "output_type": "execute_result",
          "data": {
            "text/plain": [
              "2343"
            ]
          },
          "metadata": {},
          "execution_count": 129
        }
      ]
    },
    {
      "cell_type": "code",
      "metadata": {
        "id": "9FQckQzxyy_K"
      },
      "source": [
        "for iter in range(0,3):\n",
        "\n",
        "  # replacing consonants\n",
        "  for key in consonants:\n",
        "    x = x.replace(key, consonants[key].decode('utf-8'))\n",
        "  \n",
        "  # replacing consonants extra care\n",
        "  for key in consonantsExtraCare:\n",
        "    indexes = []\n",
        "    for i in range(0, len(x)):\n",
        "      if (x[i] == key):\n",
        "        count = 0\n",
        "        for j in range(1,4):\n",
        "          if (i-j>-1 and ord(x[i-j])>2000  and ord(x[i-j])<4000):\n",
        "            count += 1\n",
        "          if (i+j<len(x) and ord(x[i+j])>2000 and ord(x[i+j])<4000):\n",
        "            count += 1\n",
        "        if count>0:\n",
        "          indexes.append(i)\n",
        "  \n",
        "    for index in indexes:\n",
        "      x = x[:index] + consonantsExtraCare[key].decode('utf-8') + x[(index+1):]\n",
        "  \n",
        "  # replacing conjucts\n",
        "  for key in conjucts:\n",
        "    x = x.replace(key, conjucts[key].decode('utf-8'))\n",
        "  \n",
        "  # replacing conjucts extra care\n",
        "  for key in conjuctsExtraCare:\n",
        "    indexes = []\n",
        "\n",
        "    for i in range(0, len(x)):\n",
        "      if x[i]==key:\n",
        "        if ((i>0 and ord(x[i-1])>400) or (i<len(x)-1 and ord(x[i+1])>400)):\n",
        "          x = x[:i] + conjuctsExtraCare[key].decode('utf-8') + x[(i+1):]\n",
        "  \n",
        "  # replacing half consonants\n",
        "  for key in halfConsonants:\n",
        "    x = x.replace(key, halfConsonants[key].decode('utf-8'))\n",
        "  \n",
        "  # replacing half consonants extra care\n",
        "  for key in halfConsonantsExtraCare:\n",
        "    indexes = []\n",
        "\n",
        "    for i in range(0, len(x)):\n",
        "      if x[i]==key:\n",
        "        if ((i>0 and ord(x[i-1])>400) or (i<len(x)-1 and ord(x[i+1])>400)):\n",
        "          x = x[:i] + halfConsonantsExtraCare[key].decode('utf-8') + x[(i+1):]\n",
        "  \n",
        "  # replacing maatras aage\n",
        "  for key in maatrasAage:\n",
        "    indexes = []\n",
        "\n",
        "    for m in re.finditer(key, x):\n",
        "      indexes.append(m.start())\n",
        "    \n",
        "    for index in indexes:\n",
        "      if (index+3<len(x) and x[index+3]=='्'):\n",
        "        x = x[:index] + x[(index+2):(index+5)] + key + x[(index+5):]\n",
        "      else:\n",
        "        x = x[:index] + x[index+len(key)] + key + x[(index+len(key)+1):]\n",
        "      \n",
        "    x = x.replace(key, maatrasAage[key].decode('utf-8'))\n",
        "  \n",
        "  # replacing vowels\n",
        "  for key in vowels:\n",
        "    x = x.replace(key, vowels[key].decode('utf-8'))\n",
        "  \n",
        "  # replacing vowels extra care\n",
        "  for key in vowelsExtraCare:\n",
        "    indexes = []\n",
        "    for i in range(0, len(x)):\n",
        "      if (x[i] == key):\n",
        "        count = 0\n",
        "        for j in range(1,5):\n",
        "          if (i-j>-1 and ord(x[i-j])>2000):\n",
        "            count += 1\n",
        "          if (i+j<len(x) and ord(x[i+j])>2000):\n",
        "            count += 1\n",
        "        if count>0:\n",
        "          indexes.append(i)\n",
        "    \n",
        "    for index in indexes:\n",
        "      x = x[:index] + vowelsExtraCare[key].decode('utf-8') + x[(index+1):]\n",
        "  \n",
        "  # replacing maatras piche\n",
        "  for key in maatrasPiche:\n",
        "    x = x.replace(key, maatrasPiche[key].decode('utf-8'))\n",
        "  \n",
        "  # replacing aage aane wali piche hokar maatras\n",
        "  for key in maatrasPicheAage:\n",
        "    indexes = []\n",
        "\n",
        "    for m in re.finditer(key, x):\n",
        "      indexes.append(m.start())\n",
        "    \n",
        "    for index in indexes:\n",
        "      x = x[:(index-1)] + key + x[index-1] + x[(index+1):]\n",
        "      \n",
        "    x = x.replace(key, maatrasPicheAage[key].decode('utf-8'))"
      ],
      "execution_count": null,
      "outputs": []
    },
    {
      "cell_type": "code",
      "metadata": {
        "colab": {
          "base_uri": "https://localhost:8080/"
        },
        "id": "-xpxIwQgzt14",
        "outputId": "499e5d35-0175-48c4-82aa-8185491a178c"
      },
      "source": [
        "print(x)"
      ],
      "execution_count": null,
      "outputs": [
        {
          "output_type": "stream",
          "name": "stdout",
          "text": [
            " 03.08.2018 \n",
            " \n",
            "28 \n",
            " \n",
            "ORAL ANSWERS TO QUESTIONS \n",
            "Hon. Speaker : Now, Q. No.241, Shri Ram Charitra Nishad. \n",
            "(Q. 241) \n",
            "�ी राम च�र� िनषाद : माननीय अ�य� महोदया, म आपको बहत ध�यवाद दता ह िक आपन  \n",
            "मझ इस मह�वपण िवषय पर बोलन का मौका िदया ह। … (�यवधान) इसक  साथ ही म यह कहना \n",
            "चाहता ह िक माननीय म�ी जी न इसका िव�तार स जवाब द िदया ह। इसक  िलए म उनको भी \n",
            "बधाई दता ह। …(�यवधान) \n",
            " आज पर दश म वाय �दषण स लगभग 30 लाख लोग िशकार होत ह। …(�यवधान) बड़ी \n",
            "बीमा�रया जस टी.वी., क सर और मल�रया भी वाय �दषण स होती ह। म आपको बधाई दता ह िक \n",
            "इतन ज�री सवाल पर आपन हम सदन म बोलन का मौका िदया ह। …(�यवधान) म�ालय �ारा \n",
            "इस वाय �दषण को िनयि�त करन क  िलए एक िवशष� सिमित का गठन िकया गया ह। \n",
            "…(�यवधान) \n",
            "HON. SPEAKER: Definitely, I will allow them. Please, do not do this. This is not \n",
            "proper.   \n",
            " \n",
            "Yes, hon. Member, you may continue.  \n",
            "… (Interruptions) \n",
            "�ी राम च�र� िनषाद : माननीय अ�य� महोदया, म दोबारा इस बात को कहना चाहता ह िक \n",
            "आपन इस सदन म गभीर सम�या पर बोलन का मझ मौका िदया ह, इसक  िलए म आपको ध�यवाद \n",
            "दता ह।…(�यवधान) \n",
            " \n",
            "माननीय अ�य� महोदया, आज वाय �दषण न पर दश म िजतना बड़ा भयकर �प ल \n",
            "िलया ह, इसस पर दश म लगभग 30 लाख लोग हर साल इसका िशकार होत ह।…(�यवधान) \n",
            "टी.वी., क सर और मल�रया जसी गभीर बीमा�रया भी वाय �दषण स होती ह। अभी म�ालय न इस \n",
            "वाय �दषण को िनयि�त करन क  िलए एक िवशष� सिमित का गठन िकया ह।…(�यवधान) यह \n",
            "\n"
          ]
        }
      ]
    }
  ]
}