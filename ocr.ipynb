{
  "nbformat": 4,
  "nbformat_minor": 0,
  "metadata": {
    "colab": {
      "name": "ocr.ipynb",
      "provenance": []
    },
    "kernelspec": {
      "name": "python3",
      "display_name": "Python 3"
    },
    "language_info": {
      "name": "python"
    }
  },
  "cells": [
    {
      "cell_type": "markdown",
      "metadata": {
        "id": "2juuY8TA_v8m"
      },
      "source": [
        "##### installations"
      ]
    },
    {
      "cell_type": "code",
      "metadata": {
        "colab": {
          "base_uri": "https://localhost:8080/"
        },
        "id": "_vxmNQCtBS3c",
        "outputId": "452c448f-d68e-4494-b654-fa10b8b207f4"
      },
      "source": [
        "!pip install tika"
      ],
      "execution_count": null,
      "outputs": [
        {
          "output_type": "stream",
          "name": "stdout",
          "text": [
            "Collecting tika\n",
            "  Downloading tika-1.24.tar.gz (28 kB)\n",
            "Requirement already satisfied: setuptools in /usr/local/lib/python3.7/dist-packages (from tika) (57.4.0)\n",
            "Requirement already satisfied: requests in /usr/local/lib/python3.7/dist-packages (from tika) (2.23.0)\n",
            "Requirement already satisfied: idna<3,>=2.5 in /usr/local/lib/python3.7/dist-packages (from requests->tika) (2.10)\n",
            "Requirement already satisfied: urllib3!=1.25.0,!=1.25.1,<1.26,>=1.21.1 in /usr/local/lib/python3.7/dist-packages (from requests->tika) (1.24.3)\n",
            "Requirement already satisfied: certifi>=2017.4.17 in /usr/local/lib/python3.7/dist-packages (from requests->tika) (2021.5.30)\n",
            "Requirement already satisfied: chardet<4,>=3.0.2 in /usr/local/lib/python3.7/dist-packages (from requests->tika) (3.0.4)\n",
            "Building wheels for collected packages: tika\n",
            "  Building wheel for tika (setup.py) ... \u001b[?25l\u001b[?25hdone\n",
            "  Created wheel for tika: filename=tika-1.24-py3-none-any.whl size=32891 sha256=757359bbb7c7995dd45316dc82c66062500ab6c15fc22cb41078c7a0e4132ed4\n",
            "  Stored in directory: /root/.cache/pip/wheels/ec/2b/38/58ff05467a742e32f67f5d0de048fa046e764e2fbb25ac93f3\n",
            "Successfully built tika\n",
            "Installing collected packages: tika\n",
            "Successfully installed tika-1.24\n"
          ]
        }
      ]
    },
    {
      "cell_type": "code",
      "metadata": {
        "colab": {
          "base_uri": "https://localhost:8080/"
        },
        "id": "_i5IV8GSCVlj",
        "outputId": "23249809-a0fc-41f6-dcd5-9538253ae7ce"
      },
      "source": [
        "!apt install ocrmypdf"
      ],
      "execution_count": null,
      "outputs": [
        {
          "output_type": "stream",
          "name": "stdout",
          "text": [
            "Reading package lists... Done\n",
            "Building dependency tree       \n",
            "Reading state information... Done\n",
            "The following additional packages will be installed:\n",
            "  fonts-droid-fallback fonts-noto-mono ghostscript gsfonts icc-profiles-free\n",
            "  libart-2.0-2 libcupsfilters1 libcupsimage2 libgs9 libgs9-common libijs-0.35\n",
            "  libjbig2dec0 libqpdf21 poppler-data python3-cffi-backend python3-defusedxml\n",
            "  python3-img2pdf python3-olefile python3-pil python3-pkg-resources\n",
            "  python3-pypdf2 python3-renderpm python3-reportlab python3-reportlab-accel\n",
            "  python3-ruffus qpdf tesseract-ocr tesseract-ocr-eng tesseract-ocr-osd\n",
            "  unpaper\n",
            "Suggested packages:\n",
            "  fonts-noto ghostscript-x ocrmypdf-doc python-watchdog img2pdf poppler-utils\n",
            "  fonts-japanese-mincho | fonts-ipafont-mincho fonts-japanese-gothic\n",
            "  | fonts-ipafont-gothic fonts-arphic-ukai fonts-arphic-uming fonts-nanum\n",
            "  python3-pdfrw python-pil-doc python3-pil-dbg python3-setuptools\n",
            "  python3-renderpm-dbg pdf-viewer python3-egenix-mxtexttools\n",
            "  python-reportlab-doc\n",
            "The following NEW packages will be installed:\n",
            "  fonts-droid-fallback fonts-noto-mono ghostscript gsfonts icc-profiles-free\n",
            "  libart-2.0-2 libcupsfilters1 libcupsimage2 libgs9 libgs9-common libijs-0.35\n",
            "  libjbig2dec0 libqpdf21 ocrmypdf poppler-data python3-cffi-backend\n",
            "  python3-defusedxml python3-img2pdf python3-olefile python3-pil\n",
            "  python3-pkg-resources python3-pypdf2 python3-renderpm python3-reportlab\n",
            "  python3-reportlab-accel python3-ruffus qpdf tesseract-ocr tesseract-ocr-eng\n",
            "  tesseract-ocr-osd unpaper\n",
            "0 upgraded, 31 newly installed, 0 to remove and 37 not upgraded.\n",
            "Need to get 21.6 MB of archives.\n",
            "After this operation, 75.8 MB of additional disk space will be used.\n",
            "Get:1 http://archive.ubuntu.com/ubuntu bionic/main amd64 fonts-droid-fallback all 1:6.0.1r16-1.1 [1,805 kB]\n",
            "Get:2 http://archive.ubuntu.com/ubuntu bionic/main amd64 poppler-data all 0.4.8-2 [1,479 kB]\n",
            "Get:3 http://archive.ubuntu.com/ubuntu bionic/main amd64 fonts-noto-mono all 20171026-2 [75.5 kB]\n",
            "Get:4 http://archive.ubuntu.com/ubuntu bionic-updates/main amd64 libcupsimage2 amd64 2.2.7-1ubuntu2.8 [18.6 kB]\n",
            "Get:5 http://archive.ubuntu.com/ubuntu bionic/main amd64 libijs-0.35 amd64 0.35-13 [15.5 kB]\n",
            "Get:6 http://archive.ubuntu.com/ubuntu bionic/main amd64 libjbig2dec0 amd64 0.13-6 [55.9 kB]\n",
            "Get:7 http://archive.ubuntu.com/ubuntu bionic-updates/main amd64 libgs9-common all 9.26~dfsg+0-0ubuntu0.18.04.14 [5,092 kB]\n",
            "Get:8 http://archive.ubuntu.com/ubuntu bionic-updates/main amd64 libgs9 amd64 9.26~dfsg+0-0ubuntu0.18.04.14 [2,265 kB]\n",
            "Get:9 http://archive.ubuntu.com/ubuntu bionic-updates/main amd64 ghostscript amd64 9.26~dfsg+0-0ubuntu0.18.04.14 [51.3 kB]\n",
            "Get:10 http://archive.ubuntu.com/ubuntu bionic/main amd64 gsfonts all 1:8.11+urwcyr1.0.7~pre44-4.4 [3,120 kB]\n",
            "Get:11 http://archive.ubuntu.com/ubuntu bionic/main amd64 icc-profiles-free all 2.0.1+dfsg-1 [549 kB]\n",
            "Get:12 http://archive.ubuntu.com/ubuntu bionic/main amd64 libart-2.0-2 amd64 2.3.21-3 [51.9 kB]\n",
            "Get:13 http://archive.ubuntu.com/ubuntu bionic-updates/main amd64 libcupsfilters1 amd64 1.20.2-0ubuntu3.1 [108 kB]\n",
            "Get:14 http://archive.ubuntu.com/ubuntu bionic-updates/main amd64 libqpdf21 amd64 8.0.2-3ubuntu0.1 [290 kB]\n",
            "Get:15 http://archive.ubuntu.com/ubuntu bionic-updates/main amd64 python3-pil amd64 5.1.0-1ubuntu0.6 [330 kB]\n",
            "Get:16 http://archive.ubuntu.com/ubuntu bionic/main amd64 python3-pkg-resources all 39.0.1-2 [98.8 kB]\n",
            "Get:17 http://archive.ubuntu.com/ubuntu bionic-updates/main amd64 python3-reportlab-accel amd64 3.4.0-3ubuntu0.1 [18.4 kB]\n",
            "Get:18 http://archive.ubuntu.com/ubuntu bionic-updates/main amd64 python3-reportlab all 3.4.0-3ubuntu0.1 [473 kB]\n",
            "Get:19 http://archive.ubuntu.com/ubuntu bionic/universe amd64 python3-ruffus all 2.6.3+dfsg-5 [87.5 kB]\n",
            "Get:20 http://archive.ubuntu.com/ubuntu bionic-updates/main amd64 qpdf amd64 8.0.2-3ubuntu0.1 [238 kB]\n",
            "Get:21 http://archive.ubuntu.com/ubuntu bionic/universe amd64 tesseract-ocr-eng all 4.00~git24-0e00fe6-1.2 [1,588 kB]\n",
            "Get:22 http://archive.ubuntu.com/ubuntu bionic/universe amd64 tesseract-ocr-osd all 4.00~git24-0e00fe6-1.2 [2,989 kB]\n",
            "Get:23 http://archive.ubuntu.com/ubuntu bionic/universe amd64 tesseract-ocr amd64 4.00~git2288-10f4998a-2 [218 kB]\n",
            "Get:24 http://archive.ubuntu.com/ubuntu bionic/main amd64 python3-cffi-backend amd64 1.11.5-1 [64.6 kB]\n",
            "Get:25 http://archive.ubuntu.com/ubuntu bionic/universe amd64 python3-defusedxml all 0.5.0-1ubuntu1 [19.2 kB]\n",
            "Get:26 http://archive.ubuntu.com/ubuntu bionic/universe amd64 python3-img2pdf all 0.2.3-1 [22.8 kB]\n",
            "Get:27 http://archive.ubuntu.com/ubuntu bionic/universe amd64 python3-pypdf2 all 1.26.0-2 [49.2 kB]\n",
            "Get:28 http://archive.ubuntu.com/ubuntu bionic-updates/universe amd64 ocrmypdf all 6.1.2-1ubuntu1.1 [74.3 kB]\n",
            "Get:29 http://archive.ubuntu.com/ubuntu bionic/main amd64 python3-olefile all 0.45.1-1 [33.3 kB]\n",
            "Get:30 http://archive.ubuntu.com/ubuntu bionic-updates/main amd64 python3-renderpm amd64 3.4.0-3ubuntu0.1 [33.5 kB]\n",
            "Get:31 http://archive.ubuntu.com/ubuntu bionic/universe amd64 unpaper amd64 6.1-2 [242 kB]\n",
            "Fetched 21.6 MB in 1s (14.7 MB/s)\n",
            "Extracting templates from packages: 100%\n",
            "Selecting previously unselected package fonts-droid-fallback.\n",
            "(Reading database ... 155047 files and directories currently installed.)\n",
            "Preparing to unpack .../00-fonts-droid-fallback_1%3a6.0.1r16-1.1_all.deb ...\n",
            "Unpacking fonts-droid-fallback (1:6.0.1r16-1.1) ...\n",
            "Selecting previously unselected package poppler-data.\n",
            "Preparing to unpack .../01-poppler-data_0.4.8-2_all.deb ...\n",
            "Unpacking poppler-data (0.4.8-2) ...\n",
            "Selecting previously unselected package fonts-noto-mono.\n",
            "Preparing to unpack .../02-fonts-noto-mono_20171026-2_all.deb ...\n",
            "Unpacking fonts-noto-mono (20171026-2) ...\n",
            "Selecting previously unselected package libcupsimage2:amd64.\n",
            "Preparing to unpack .../03-libcupsimage2_2.2.7-1ubuntu2.8_amd64.deb ...\n",
            "Unpacking libcupsimage2:amd64 (2.2.7-1ubuntu2.8) ...\n",
            "Selecting previously unselected package libijs-0.35:amd64.\n",
            "Preparing to unpack .../04-libijs-0.35_0.35-13_amd64.deb ...\n",
            "Unpacking libijs-0.35:amd64 (0.35-13) ...\n",
            "Selecting previously unselected package libjbig2dec0:amd64.\n",
            "Preparing to unpack .../05-libjbig2dec0_0.13-6_amd64.deb ...\n",
            "Unpacking libjbig2dec0:amd64 (0.13-6) ...\n",
            "Selecting previously unselected package libgs9-common.\n",
            "Preparing to unpack .../06-libgs9-common_9.26~dfsg+0-0ubuntu0.18.04.14_all.deb ...\n",
            "Unpacking libgs9-common (9.26~dfsg+0-0ubuntu0.18.04.14) ...\n",
            "Selecting previously unselected package libgs9:amd64.\n",
            "Preparing to unpack .../07-libgs9_9.26~dfsg+0-0ubuntu0.18.04.14_amd64.deb ...\n",
            "Unpacking libgs9:amd64 (9.26~dfsg+0-0ubuntu0.18.04.14) ...\n",
            "Selecting previously unselected package ghostscript.\n",
            "Preparing to unpack .../08-ghostscript_9.26~dfsg+0-0ubuntu0.18.04.14_amd64.deb ...\n",
            "Unpacking ghostscript (9.26~dfsg+0-0ubuntu0.18.04.14) ...\n",
            "Selecting previously unselected package gsfonts.\n",
            "Preparing to unpack .../09-gsfonts_1%3a8.11+urwcyr1.0.7~pre44-4.4_all.deb ...\n",
            "Unpacking gsfonts (1:8.11+urwcyr1.0.7~pre44-4.4) ...\n",
            "Selecting previously unselected package icc-profiles-free.\n",
            "Preparing to unpack .../10-icc-profiles-free_2.0.1+dfsg-1_all.deb ...\n",
            "Unpacking icc-profiles-free (2.0.1+dfsg-1) ...\n",
            "Selecting previously unselected package libart-2.0-2:amd64.\n",
            "Preparing to unpack .../11-libart-2.0-2_2.3.21-3_amd64.deb ...\n",
            "Unpacking libart-2.0-2:amd64 (2.3.21-3) ...\n",
            "Selecting previously unselected package libcupsfilters1:amd64.\n",
            "Preparing to unpack .../12-libcupsfilters1_1.20.2-0ubuntu3.1_amd64.deb ...\n",
            "Unpacking libcupsfilters1:amd64 (1.20.2-0ubuntu3.1) ...\n",
            "Selecting previously unselected package libqpdf21:amd64.\n",
            "Preparing to unpack .../13-libqpdf21_8.0.2-3ubuntu0.1_amd64.deb ...\n",
            "Unpacking libqpdf21:amd64 (8.0.2-3ubuntu0.1) ...\n",
            "Selecting previously unselected package python3-pil:amd64.\n",
            "Preparing to unpack .../14-python3-pil_5.1.0-1ubuntu0.6_amd64.deb ...\n",
            "Unpacking python3-pil:amd64 (5.1.0-1ubuntu0.6) ...\n",
            "Selecting previously unselected package python3-pkg-resources.\n",
            "Preparing to unpack .../15-python3-pkg-resources_39.0.1-2_all.deb ...\n",
            "Unpacking python3-pkg-resources (39.0.1-2) ...\n",
            "Selecting previously unselected package python3-reportlab-accel:amd64.\n",
            "Preparing to unpack .../16-python3-reportlab-accel_3.4.0-3ubuntu0.1_amd64.deb ...\n",
            "Unpacking python3-reportlab-accel:amd64 (3.4.0-3ubuntu0.1) ...\n",
            "Selecting previously unselected package python3-reportlab.\n",
            "Preparing to unpack .../17-python3-reportlab_3.4.0-3ubuntu0.1_all.deb ...\n",
            "Unpacking python3-reportlab (3.4.0-3ubuntu0.1) ...\n",
            "Selecting previously unselected package python3-ruffus.\n",
            "Preparing to unpack .../18-python3-ruffus_2.6.3+dfsg-5_all.deb ...\n",
            "Unpacking python3-ruffus (2.6.3+dfsg-5) ...\n",
            "Selecting previously unselected package qpdf.\n",
            "Preparing to unpack .../19-qpdf_8.0.2-3ubuntu0.1_amd64.deb ...\n",
            "Unpacking qpdf (8.0.2-3ubuntu0.1) ...\n",
            "Selecting previously unselected package tesseract-ocr-eng.\n",
            "Preparing to unpack .../20-tesseract-ocr-eng_4.00~git24-0e00fe6-1.2_all.deb ...\n",
            "Unpacking tesseract-ocr-eng (4.00~git24-0e00fe6-1.2) ...\n",
            "Selecting previously unselected package tesseract-ocr-osd.\n",
            "Preparing to unpack .../21-tesseract-ocr-osd_4.00~git24-0e00fe6-1.2_all.deb ...\n",
            "Unpacking tesseract-ocr-osd (4.00~git24-0e00fe6-1.2) ...\n",
            "Selecting previously unselected package tesseract-ocr.\n",
            "Preparing to unpack .../22-tesseract-ocr_4.00~git2288-10f4998a-2_amd64.deb ...\n",
            "Unpacking tesseract-ocr (4.00~git2288-10f4998a-2) ...\n",
            "Selecting previously unselected package python3-cffi-backend.\n",
            "Preparing to unpack .../23-python3-cffi-backend_1.11.5-1_amd64.deb ...\n",
            "Unpacking python3-cffi-backend (1.11.5-1) ...\n",
            "Selecting previously unselected package python3-defusedxml.\n",
            "Preparing to unpack .../24-python3-defusedxml_0.5.0-1ubuntu1_all.deb ...\n",
            "Unpacking python3-defusedxml (0.5.0-1ubuntu1) ...\n",
            "Selecting previously unselected package python3-img2pdf.\n",
            "Preparing to unpack .../25-python3-img2pdf_0.2.3-1_all.deb ...\n",
            "Unpacking python3-img2pdf (0.2.3-1) ...\n",
            "Selecting previously unselected package python3-pypdf2.\n",
            "Preparing to unpack .../26-python3-pypdf2_1.26.0-2_all.deb ...\n",
            "Unpacking python3-pypdf2 (1.26.0-2) ...\n",
            "Selecting previously unselected package ocrmypdf.\n",
            "Preparing to unpack .../27-ocrmypdf_6.1.2-1ubuntu1.1_all.deb ...\n",
            "Unpacking ocrmypdf (6.1.2-1ubuntu1.1) ...\n",
            "Selecting previously unselected package python3-olefile.\n",
            "Preparing to unpack .../28-python3-olefile_0.45.1-1_all.deb ...\n",
            "Unpacking python3-olefile (0.45.1-1) ...\n",
            "Selecting previously unselected package python3-renderpm:amd64.\n",
            "Preparing to unpack .../29-python3-renderpm_3.4.0-3ubuntu0.1_amd64.deb ...\n",
            "Unpacking python3-renderpm:amd64 (3.4.0-3ubuntu0.1) ...\n",
            "Selecting previously unselected package unpaper.\n",
            "Preparing to unpack .../30-unpaper_6.1-2_amd64.deb ...\n",
            "Unpacking unpaper (6.1-2) ...\n",
            "Setting up libgs9-common (9.26~dfsg+0-0ubuntu0.18.04.14) ...\n",
            "Setting up libart-2.0-2:amd64 (2.3.21-3) ...\n",
            "Setting up python3-pypdf2 (1.26.0-2) ...\n",
            "Setting up icc-profiles-free (2.0.1+dfsg-1) ...\n",
            "Setting up fonts-droid-fallback (1:6.0.1r16-1.1) ...\n",
            "Setting up python3-pil:amd64 (5.1.0-1ubuntu0.6) ...\n",
            "Setting up gsfonts (1:8.11+urwcyr1.0.7~pre44-4.4) ...\n",
            "Setting up python3-cffi-backend (1.11.5-1) ...\n",
            "Setting up python3-olefile (0.45.1-1) ...\n",
            "Setting up unpaper (6.1-2) ...\n",
            "Setting up poppler-data (0.4.8-2) ...\n",
            "Setting up libqpdf21:amd64 (8.0.2-3ubuntu0.1) ...\n",
            "Setting up python3-pkg-resources (39.0.1-2) ...\n",
            "Setting up fonts-noto-mono (20171026-2) ...\n",
            "Setting up libcupsfilters1:amd64 (1.20.2-0ubuntu3.1) ...\n",
            "Setting up libcupsimage2:amd64 (2.2.7-1ubuntu2.8) ...\n",
            "Setting up tesseract-ocr-osd (4.00~git24-0e00fe6-1.2) ...\n",
            "Setting up libjbig2dec0:amd64 (0.13-6) ...\n",
            "Setting up tesseract-ocr-eng (4.00~git24-0e00fe6-1.2) ...\n",
            "Setting up python3-defusedxml (0.5.0-1ubuntu1) ...\n",
            "Setting up python3-ruffus (2.6.3+dfsg-5) ...\n",
            "Setting up libijs-0.35:amd64 (0.35-13) ...\n",
            "Setting up python3-reportlab-accel:amd64 (3.4.0-3ubuntu0.1) ...\n",
            "Setting up tesseract-ocr (4.00~git2288-10f4998a-2) ...\n",
            "Setting up qpdf (8.0.2-3ubuntu0.1) ...\n",
            "Setting up python3-img2pdf (0.2.3-1) ...\n",
            "Setting up libgs9:amd64 (9.26~dfsg+0-0ubuntu0.18.04.14) ...\n",
            "Setting up python3-renderpm:amd64 (3.4.0-3ubuntu0.1) ...\n",
            "Setting up ghostscript (9.26~dfsg+0-0ubuntu0.18.04.14) ...\n",
            "Setting up python3-reportlab (3.4.0-3ubuntu0.1) ...\n",
            "Setting up ocrmypdf (6.1.2-1ubuntu1.1) ...\n",
            "Processing triggers for man-db (2.8.3-2ubuntu0.1) ...\n",
            "Processing triggers for fontconfig (2.12.6-0ubuntu2) ...\n",
            "Processing triggers for libc-bin (2.27-3ubuntu1.3) ...\n",
            "/sbin/ldconfig.real: /usr/local/lib/python3.7/dist-packages/ideep4py/lib/libmkldnn.so.0 is not a symbolic link\n",
            "\n"
          ]
        }
      ]
    },
    {
      "cell_type": "code",
      "metadata": {
        "colab": {
          "base_uri": "https://localhost:8080/"
        },
        "id": "sJRGUbaov0xX",
        "outputId": "6a00e3c0-fec8-4d3b-8795-82ac79c70f12"
      },
      "source": [
        "!apt-get install ocrmypdf"
      ],
      "execution_count": null,
      "outputs": [
        {
          "output_type": "stream",
          "name": "stdout",
          "text": [
            "Reading package lists... Done\n",
            "Building dependency tree       \n",
            "Reading state information... Done\n",
            "ocrmypdf is already the newest version (6.1.2-1ubuntu1.1).\n",
            "0 upgraded, 0 newly installed, 0 to remove and 37 not upgraded.\n"
          ]
        }
      ]
    },
    {
      "cell_type": "code",
      "metadata": {
        "colab": {
          "base_uri": "https://localhost:8080/"
        },
        "id": "KEfx2xOLw-o_",
        "outputId": "2ed5794a-943a-4adc-a975-50ced974e07d"
      },
      "source": [
        "!apt-get install tesseract-ocr-eng"
      ],
      "execution_count": null,
      "outputs": [
        {
          "output_type": "stream",
          "name": "stdout",
          "text": [
            "Reading package lists... Done\n",
            "Building dependency tree       \n",
            "Reading state information... Done\n",
            "tesseract-ocr-eng is already the newest version (4.00~git24-0e00fe6-1.2).\n",
            "tesseract-ocr-eng set to manually installed.\n",
            "0 upgraded, 0 newly installed, 0 to remove and 37 not upgraded.\n"
          ]
        }
      ]
    },
    {
      "cell_type": "code",
      "metadata": {
        "colab": {
          "base_uri": "https://localhost:8080/"
        },
        "id": "HnEp2JZ5_qLd",
        "outputId": "f2b46ef0-ccf8-4435-c150-1ed8d2da3238"
      },
      "source": [
        "!apt-get install tesseract-ocr-hin"
      ],
      "execution_count": null,
      "outputs": [
        {
          "output_type": "stream",
          "name": "stdout",
          "text": [
            "Reading package lists... Done\n",
            "Building dependency tree       \n",
            "Reading state information... Done\n",
            "The following NEW packages will be installed:\n",
            "  tesseract-ocr-hin\n",
            "0 upgraded, 1 newly installed, 0 to remove and 37 not upgraded.\n",
            "Need to get 912 kB of archives.\n",
            "After this operation, 1,138 kB of additional disk space will be used.\n",
            "Get:1 http://archive.ubuntu.com/ubuntu bionic/universe amd64 tesseract-ocr-hin all 4.00~git24-0e00fe6-1.2 [912 kB]\n",
            "Fetched 912 kB in 1s (1,418 kB/s)\n",
            "Selecting previously unselected package tesseract-ocr-hin.\n",
            "(Reading database ... 156685 files and directories currently installed.)\n",
            "Preparing to unpack .../tesseract-ocr-hin_4.00~git24-0e00fe6-1.2_all.deb ...\n",
            "Unpacking tesseract-ocr-hin (4.00~git24-0e00fe6-1.2) ...\n",
            "Setting up tesseract-ocr-hin (4.00~git24-0e00fe6-1.2) ...\n"
          ]
        }
      ]
    },
    {
      "cell_type": "code",
      "metadata": {
        "colab": {
          "base_uri": "https://localhost:8080/"
        },
        "id": "X3weiqDz-jce",
        "outputId": "595c0f0c-41a7-464a-cf6a-55ea2f122c35"
      },
      "source": [
        "pip install pytesseract"
      ],
      "execution_count": null,
      "outputs": [
        {
          "output_type": "stream",
          "name": "stdout",
          "text": [
            "Collecting pytesseract\n",
            "  Downloading pytesseract-0.3.8.tar.gz (14 kB)\n",
            "Requirement already satisfied: Pillow in /usr/local/lib/python3.7/dist-packages (from pytesseract) (7.1.2)\n",
            "Building wheels for collected packages: pytesseract\n",
            "  Building wheel for pytesseract (setup.py) ... \u001b[?25l\u001b[?25hdone\n",
            "  Created wheel for pytesseract: filename=pytesseract-0.3.8-py2.py3-none-any.whl size=14072 sha256=ae17ce2603834025eba77e47ef27010934638bc2cf00720c0d0e0a0262531764\n",
            "  Stored in directory: /root/.cache/pip/wheels/a4/89/b9/3f11250225d0f90e5454fcc30fd1b7208db226850715aa9ace\n",
            "Successfully built pytesseract\n",
            "Installing collected packages: pytesseract\n",
            "Successfully installed pytesseract-0.3.8\n"
          ]
        }
      ]
    },
    {
      "cell_type": "code",
      "metadata": {
        "colab": {
          "base_uri": "https://localhost:8080/"
        },
        "id": "mk_iCgwn7sQx",
        "outputId": "f6b5c875-6e91-480b-f21e-2923a2ec7f08"
      },
      "source": [
        "pip install pdf2image"
      ],
      "execution_count": null,
      "outputs": [
        {
          "output_type": "stream",
          "name": "stdout",
          "text": [
            "Collecting pdf2image\n",
            "  Downloading pdf2image-1.16.0-py3-none-any.whl (10 kB)\n",
            "Requirement already satisfied: pillow in /usr/local/lib/python3.7/dist-packages (from pdf2image) (7.1.2)\n",
            "Installing collected packages: pdf2image\n",
            "Successfully installed pdf2image-1.16.0\n"
          ]
        }
      ]
    },
    {
      "cell_type": "code",
      "metadata": {
        "colab": {
          "base_uri": "https://localhost:8080/"
        },
        "id": "htJQGAQI-0zW",
        "outputId": "d82cfd02-fdeb-49c9-e2a2-6ddf4ec2be03"
      },
      "source": [
        "!apt-get install poppler-utils"
      ],
      "execution_count": null,
      "outputs": [
        {
          "output_type": "stream",
          "name": "stdout",
          "text": [
            "Reading package lists... Done\n",
            "Building dependency tree       \n",
            "Reading state information... Done\n",
            "The following NEW packages will be installed:\n",
            "  poppler-utils\n",
            "0 upgraded, 1 newly installed, 0 to remove and 37 not upgraded.\n",
            "Need to get 154 kB of archives.\n",
            "After this operation, 613 kB of additional disk space will be used.\n",
            "Get:1 http://archive.ubuntu.com/ubuntu bionic-updates/main amd64 poppler-utils amd64 0.62.0-2ubuntu2.12 [154 kB]\n",
            "Fetched 154 kB in 0s (323 kB/s)\n",
            "Selecting previously unselected package poppler-utils.\n",
            "(Reading database ... 156689 files and directories currently installed.)\n",
            "Preparing to unpack .../poppler-utils_0.62.0-2ubuntu2.12_amd64.deb ...\n",
            "Unpacking poppler-utils (0.62.0-2ubuntu2.12) ...\n",
            "Setting up poppler-utils (0.62.0-2ubuntu2.12) ...\n",
            "Processing triggers for man-db (2.8.3-2ubuntu0.1) ...\n"
          ]
        }
      ]
    },
    {
      "cell_type": "code",
      "metadata": {
        "colab": {
          "base_uri": "https://localhost:8080/",
          "height": 1000
        },
        "id": "wp_Yjl8HB5Yz",
        "outputId": "9cc39b90-f576-487f-f0e7-9cec25c36da9"
      },
      "source": [
        "!pip3 install \"git+https://github.com/jbarlow83/OCRmyPDF.git\""
      ],
      "execution_count": null,
      "outputs": [
        {
          "output_type": "stream",
          "name": "stdout",
          "text": [
            "Collecting git+https://github.com/jbarlow83/OCRmyPDF.git\n",
            "  Cloning https://github.com/jbarlow83/OCRmyPDF.git to /tmp/pip-req-build-bnaa8ccj\n",
            "  Running command git clone -q https://github.com/jbarlow83/OCRmyPDF.git /tmp/pip-req-build-bnaa8ccj\n",
            "  Installing build dependencies ... \u001b[?25l\u001b[?25hdone\n",
            "  Getting requirements to build wheel ... \u001b[?25l\u001b[?25hdone\n",
            "    Preparing wheel metadata ... \u001b[?25l\u001b[?25hdone\n",
            "Requirement already satisfied: importlib-metadata>=4 in /usr/local/lib/python3.7/dist-packages (from ocrmypdf==12.7.0) (4.8.1)\n",
            "Requirement already satisfied: cffi>=1.9.1 in /usr/local/lib/python3.7/dist-packages (from ocrmypdf==12.7.0) (1.14.6)\n",
            "Requirement already satisfied: importlib-resources>=5 in /usr/local/lib/python3.7/dist-packages (from ocrmypdf==12.7.0) (5.2.2)\n",
            "Requirement already satisfied: tqdm>=4 in /usr/local/lib/python3.7/dist-packages (from ocrmypdf==12.7.0) (4.62.3)\n",
            "Collecting pluggy<2,>=0.13.0\n",
            "  Downloading pluggy-1.0.0-py2.py3-none-any.whl (13 kB)\n",
            "Collecting Pillow>=8.2.0\n",
            "  Downloading Pillow-8.4.0-cp37-cp37m-manylinux_2_17_x86_64.manylinux2014_x86_64.whl (3.1 MB)\n",
            "\u001b[K     |████████████████████████████████| 3.1 MB 30.4 MB/s \n",
            "\u001b[?25hCollecting pikepdf>=2.10.0\n",
            "  Downloading pikepdf-3.2.0-cp37-cp37m-manylinux_2_12_x86_64.manylinux2010_x86_64.whl (2.0 MB)\n",
            "\u001b[K     |████████████████████████████████| 2.0 MB 46.8 MB/s \n",
            "\u001b[?25hCollecting reportlab>=3.5.66\n",
            "  Downloading reportlab-3.6.2-cp37-cp37m-manylinux_2_17_x86_64.manylinux2014_x86_64.whl (2.7 MB)\n",
            "\u001b[K     |████████████████████████████████| 2.7 MB 55.1 MB/s \n",
            "\u001b[?25hCollecting img2pdf<0.5,>=0.3.0\n",
            "  Downloading img2pdf-0.4.2.tar.gz (98 kB)\n",
            "\u001b[K     |████████████████████████████████| 98 kB 6.2 MB/s \n",
            "\u001b[?25hCollecting coloredlogs>=14.0\n",
            "  Downloading coloredlogs-15.0.1-py2.py3-none-any.whl (46 kB)\n",
            "\u001b[K     |████████████████████████████████| 46 kB 3.0 MB/s \n",
            "\u001b[?25hCollecting pdfminer.six!=20200720,<=20201018,>=20191110\n",
            "  Downloading pdfminer.six-20201018-py3-none-any.whl (5.6 MB)\n",
            "\u001b[K     |████████████████████████████████| 5.6 MB 32.1 MB/s \n",
            "\u001b[?25hRequirement already satisfied: pycparser in /usr/local/lib/python3.7/dist-packages (from cffi>=1.9.1->ocrmypdf==12.7.0) (2.20)\n",
            "Collecting humanfriendly>=9.1\n",
            "  Downloading humanfriendly-10.0-py2.py3-none-any.whl (86 kB)\n",
            "\u001b[K     |████████████████████████████████| 86 kB 3.7 MB/s \n",
            "\u001b[?25hRequirement already satisfied: zipp>=0.5 in /usr/local/lib/python3.7/dist-packages (from importlib-metadata>=4->ocrmypdf==12.7.0) (3.6.0)\n",
            "Requirement already satisfied: typing-extensions>=3.6.4 in /usr/local/lib/python3.7/dist-packages (from importlib-metadata>=4->ocrmypdf==12.7.0) (3.7.4.3)\n",
            "Requirement already satisfied: chardet in /usr/local/lib/python3.7/dist-packages (from pdfminer.six!=20200720,<=20201018,>=20191110->ocrmypdf==12.7.0) (3.0.4)\n",
            "Collecting cryptography\n",
            "  Downloading cryptography-35.0.0-cp36-abi3-manylinux_2_24_x86_64.whl (3.5 MB)\n",
            "\u001b[K     |████████████████████████████████| 3.5 MB 57.0 MB/s \n",
            "\u001b[?25hRequirement already satisfied: sortedcontainers in /usr/local/lib/python3.7/dist-packages (from pdfminer.six!=20200720,<=20201018,>=20191110->ocrmypdf==12.7.0) (2.4.0)\n",
            "Requirement already satisfied: lxml>=4.0 in /usr/local/lib/python3.7/dist-packages (from pikepdf>=2.10.0->ocrmypdf==12.7.0) (4.2.6)\n",
            "Building wheels for collected packages: ocrmypdf, img2pdf\n",
            "  Building wheel for ocrmypdf (PEP 517) ... \u001b[?25l\u001b[?25hdone\n",
            "  Created wheel for ocrmypdf: filename=ocrmypdf-12.7.0-py36-none-any.whl size=141167 sha256=4b761e6361a58a17c1cab72e1f9caa2202bb34595af3c97a9a28c91094378fd9\n",
            "  Stored in directory: /tmp/pip-ephem-wheel-cache-vneglqkt/wheels/b3/e9/b0/3d5f294ced9cabfaae5d05945c9453e21a858d7bbabe239597\n",
            "  Building wheel for img2pdf (setup.py) ... \u001b[?25l\u001b[?25hdone\n",
            "  Created wheel for img2pdf: filename=img2pdf-0.4.2-py3-none-any.whl size=43691 sha256=92911487a276eb5c86760d340645e642a4c6faf4cf03fdaf9383fa655897be7b\n",
            "  Stored in directory: /root/.cache/pip/wheels/50/6c/e6/102464a7bb2cd053d15c696ce1803d64278e64f4d3d820f780\n",
            "Successfully built ocrmypdf img2pdf\n",
            "Installing collected packages: Pillow, pikepdf, humanfriendly, cryptography, reportlab, pluggy, pdfminer.six, img2pdf, coloredlogs, ocrmypdf\n",
            "  Attempting uninstall: Pillow\n",
            "    Found existing installation: Pillow 7.1.2\n",
            "    Uninstalling Pillow-7.1.2:\n",
            "      Successfully uninstalled Pillow-7.1.2\n",
            "  Attempting uninstall: reportlab\n",
            "    Found existing installation: reportlab 3.4.0\n",
            "    Uninstalling reportlab-3.4.0:\n",
            "      Successfully uninstalled reportlab-3.4.0\n",
            "  Attempting uninstall: pluggy\n",
            "    Found existing installation: pluggy 0.7.1\n",
            "    Uninstalling pluggy-0.7.1:\n",
            "      Successfully uninstalled pluggy-0.7.1\n",
            "  Attempting uninstall: img2pdf\n",
            "    Found existing installation: img2pdf 0.2.3\n",
            "    Uninstalling img2pdf-0.2.3:\n",
            "      Successfully uninstalled img2pdf-0.2.3\n",
            "  Attempting uninstall: ocrmypdf\n",
            "    Found existing installation: ocrmypdf 6.1.2\n",
            "    Uninstalling ocrmypdf-6.1.2:\n",
            "      Successfully uninstalled ocrmypdf-6.1.2\n",
            "\u001b[31mERROR: pip's dependency resolver does not currently take into account all the packages that are installed. This behaviour is the source of the following dependency conflicts.\n",
            "pytest 3.6.4 requires pluggy<0.8,>=0.5, but you have pluggy 1.0.0 which is incompatible.\n",
            "datascience 0.10.6 requires folium==0.2.1, but you have folium 0.8.3 which is incompatible.\n",
            "albumentations 0.1.12 requires imgaug<0.2.7,>=0.2.5, but you have imgaug 0.2.9 which is incompatible.\u001b[0m\n",
            "Successfully installed Pillow-8.4.0 coloredlogs-15.0.1 cryptography-35.0.0 humanfriendly-10.0 img2pdf-0.4.2 ocrmypdf-12.7.0 pdfminer.six-20201018 pikepdf-3.2.0 pluggy-1.0.0 reportlab-3.6.2\n"
          ]
        },
        {
          "output_type": "display_data",
          "data": {
            "application/vnd.colab-display-data+json": {
              "pip_warning": {
                "packages": [
                  "PIL"
                ]
              }
            }
          },
          "metadata": {}
        }
      ]
    },
    {
      "cell_type": "code",
      "metadata": {
        "colab": {
          "base_uri": "https://localhost:8080/"
        },
        "id": "WKrBymxfB-2b",
        "outputId": "61b47acd-6364-4d1a-ea81-1fb972705028"
      },
      "source": [
        "!pip3 install pluggy"
      ],
      "execution_count": null,
      "outputs": [
        {
          "output_type": "stream",
          "name": "stdout",
          "text": [
            "Requirement already satisfied: pluggy in /usr/local/lib/python3.7/dist-packages (1.0.0)\n",
            "Requirement already satisfied: importlib-metadata>=0.12 in /usr/local/lib/python3.7/dist-packages (from pluggy) (4.8.1)\n",
            "Requirement already satisfied: zipp>=0.5 in /usr/local/lib/python3.7/dist-packages (from importlib-metadata>=0.12->pluggy) (3.6.0)\n",
            "Requirement already satisfied: typing-extensions>=3.6.4 in /usr/local/lib/python3.7/dist-packages (from importlib-metadata>=0.12->pluggy) (3.7.4.3)\n"
          ]
        }
      ]
    },
    {
      "cell_type": "markdown",
      "metadata": {
        "id": "bGfa_r12_0HM"
      },
      "source": [
        "##### code"
      ]
    },
    {
      "cell_type": "code",
      "metadata": {
        "id": "Yu53HfWMBOJs"
      },
      "source": [
        "import ocrmypdf\n",
        "from tika import parser\n",
        "from PIL import Image\n",
        "import pytesseract\n",
        "import sys\n",
        "from pdf2image import convert_from_path\n",
        "import os"
      ],
      "execution_count": null,
      "outputs": []
    },
    {
      "cell_type": "code",
      "metadata": {
        "colab": {
          "base_uri": "https://localhost:8080/"
        },
        "id": "4viaFoANVs0W",
        "outputId": "55af1b20-1cbb-4be5-94f6-5bf32029e4cc"
      },
      "source": [
        "# folders to access\n",
        "def convert(filename):\n",
        "\n",
        "  sourcePath = \"/content/drive/MyDrive/Lok Sabha Data/PDFs/08/\" + filename\n",
        "  destinationPath = \"/content/drive/MyDrive/Lok Sabha Data/PDFs/08/\" + filename\n",
        "\n",
        "  print(\"CURRENTLY PROCESSING :\", filename)\n",
        "\n",
        "  ocrmypdf.ocr(sourcePath, destinationPath, deskew=True, language=['eng', 'hin'], image_dpi=150, force_ocr=True)\n",
        "\n",
        "\n",
        "if __name__ == '__main__':\n",
        "    \n",
        "  # pool = multiprocessing.Pool()\n",
        "  # pool = multiprocessing.Pool(processes=1)\n",
        "  \n",
        "  # paths = []\n",
        "\n",
        "  for i in range(255,256):\n",
        "    convert(str(i) + '.pdf')\n",
        "\n",
        "  # pool.map(convert, paths)"
      ],
      "execution_count": null,
      "outputs": [
        {
          "output_type": "stream",
          "name": "stdout",
          "text": [
            "CURRENTLY PROCESSING : 255.pdf\n"
          ]
        },
        {
          "output_type": "stream",
          "name": "stderr",
          "text": [
            "Argument --image-dpi is being ignored because the input file is a PDF, not an image.\n",
            "Scanning contents: 100%|██████████| 248/248 [00:30<00:00,  8.18page/s]\n",
            "OCR:   0%|          | 0.5/248.0 [00:10<1:23:49, 20.32s/page][tesseract] unsure about page orientation\n",
            "OCR:  11%|█         | 27.5/248.0 [07:14<37:14, 10.13s/page][tesseract] unsure about page orientation\n",
            "OCR:  11%|█▏        | 28.5/248.0 [07:21<33:00,  9.02s/page][tesseract] unsure about page orientation\n",
            "OCR:  12%|█▏        | 29.5/248.0 [07:27<29:38,  8.14s/page][tesseract] unsure about page orientation\n",
            "OCR:  13%|█▎        | 31.5/248.0 [07:41<27:33,  7.64s/page][tesseract] unsure about page orientation\n",
            "OCR:  13%|█▎        | 32.5/248.0 [07:47<25:45,  7.17s/page][tesseract] unsure about page orientation\n",
            "OCR:  14%|█▍        | 34.5/248.0 [07:58<22:12,  6.24s/page][tesseract] unsure about page orientation\n",
            "[tesseract] unsure about page orientation\n",
            "OCR:  15%|█▍        | 36.5/248.0 [08:08<20:06,  5.70s/page][tesseract] unsure about page orientation\n",
            "OCR:  18%|█▊        | 44.5/248.0 [09:45<29:11,  8.60s/page][tesseract] unsure about page orientation\n",
            "OCR:  67%|██████▋   | 166.5/248.0 [33:19<14:36, 10.76s/page][tesseract] lots of diacritics - possibly poor OCR\n",
            "OCR:  69%|██████▉   | 171.5/248.0 [34:06<14:12, 11.14s/page][tesseract] lots of diacritics - possibly poor OCR\n",
            "OCR:  73%|███████▎  | 180.5/248.0 [35:50<12:19, 10.96s/page][tesseract] lots of diacritics - possibly poor OCR\n",
            "OCR:  86%|████████▌ | 212.5/248.0 [45:22<09:04, 15.33s/page][tesseract] lots of diacritics - possibly poor OCR\n",
            "OCR:  88%|████████▊ | 218.5/248.0 [47:23<09:17, 18.88s/page][tesseract] lots of diacritics - possibly poor OCR\n",
            "OCR: 100%|██████████| 248.0/248.0 [56:03<00:00, 13.56s/page]\n",
            "PDF/A conversion: 100%|██████████| 248/248 [03:19<00:00,  1.24page/s]\n",
            "Some input metadata could not be copied because it is not permitted in PDF/A. You may wish to examine the output PDF's XMP metadata.\n",
            "JPEGs: 0image [00:00, ?image/s]\n",
            "JBIG2: 0item [00:00, ?item/s]\n"
          ]
        }
      ]
    }
  ]
}