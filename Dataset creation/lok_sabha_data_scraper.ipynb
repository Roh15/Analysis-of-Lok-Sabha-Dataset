{
  "nbformat": 4,
  "nbformat_minor": 0,
  "metadata": {
    "colab": {
      "name": "lok_sabha_data_scraper.ipynb",
      "provenance": []
    },
    "kernelspec": {
      "name": "python3",
      "display_name": "Python 3"
    },
    "language_info": {
      "name": "python"
    }
  },
  "cells": [
    {
      "cell_type": "markdown",
      "metadata": {
        "id": "KNNyoQ9LJTam"
      },
      "source": [
        "# **Lok Sabha Data Scraper**"
      ]
    },
    {
      "cell_type": "code",
      "metadata": {
        "colab": {
          "base_uri": "https://localhost:8080/"
        },
        "id": "NN0ePa3gnkkD",
        "outputId": "11db5b04-212a-412d-d76e-3feb8e9cbed3"
      },
      "source": [
        "from google.colab import drive\n",
        "drive.mount('/content/drive')"
      ],
      "execution_count": null,
      "outputs": [
        {
          "output_type": "stream",
          "name": "stdout",
          "text": [
            "Drive already mounted at /content/drive; to attempt to forcibly remount, call drive.mount(\"/content/drive\", force_remount=True).\n"
          ]
        }
      ]
    },
    {
      "cell_type": "code",
      "metadata": {
        "id": "p8ziuiZkJrdM",
        "colab": {
          "base_uri": "https://localhost:8080/"
        },
        "outputId": "c4fc594a-cbac-406f-b405-8663cfe393e0"
      },
      "source": [
        "pip install tika"
      ],
      "execution_count": null,
      "outputs": [
        {
          "output_type": "stream",
          "name": "stdout",
          "text": [
            "Collecting tika\n",
            "  Downloading tika-1.24.tar.gz (28 kB)\n",
            "Requirement already satisfied: setuptools in /usr/local/lib/python3.7/dist-packages (from tika) (57.4.0)\n",
            "Requirement already satisfied: requests in /usr/local/lib/python3.7/dist-packages (from tika) (2.23.0)\n",
            "Requirement already satisfied: chardet<4,>=3.0.2 in /usr/local/lib/python3.7/dist-packages (from requests->tika) (3.0.4)\n",
            "Requirement already satisfied: urllib3!=1.25.0,!=1.25.1,<1.26,>=1.21.1 in /usr/local/lib/python3.7/dist-packages (from requests->tika) (1.24.3)\n",
            "Requirement already satisfied: certifi>=2017.4.17 in /usr/local/lib/python3.7/dist-packages (from requests->tika) (2021.5.30)\n",
            "Requirement already satisfied: idna<3,>=2.5 in /usr/local/lib/python3.7/dist-packages (from requests->tika) (2.10)\n",
            "Building wheels for collected packages: tika\n",
            "  Building wheel for tika (setup.py) ... \u001b[?25l\u001b[?25hdone\n",
            "  Created wheel for tika: filename=tika-1.24-py3-none-any.whl size=32891 sha256=77a60c4988cc2fded2b32b5fdf8ed89b3b2eeafddb90ce3e13cd20705a44111d\n",
            "  Stored in directory: /root/.cache/pip/wheels/ec/2b/38/58ff05467a742e32f67f5d0de048fa046e764e2fbb25ac93f3\n",
            "Successfully built tika\n",
            "Installing collected packages: tika\n",
            "Successfully installed tika-1.24\n"
          ]
        }
      ]
    },
    {
      "cell_type": "code",
      "metadata": {
        "id": "8guKUS3LnSUB"
      },
      "source": [
        "# module imports\n",
        "\n",
        "import os\n",
        "import requests\n",
        "import numpy as np\n",
        "import multiprocessing\n",
        "from tika import parser\n",
        "from bs4 import BeautifulSoup"
      ],
      "execution_count": null,
      "outputs": []
    },
    {
      "cell_type": "markdown",
      "metadata": {
        "id": "Pqa2h4IcJR92"
      },
      "source": [
        "### **Downloading all the pdfs from the Lok Sabha Digital Library**"
      ]
    },
    {
      "cell_type": "code",
      "metadata": {
        "id": "gBMV2F4N6_4A",
        "colab": {
          "base_uri": "https://localhost:8080/"
        },
        "outputId": "bdaf5eb5-f541-4945-c9a8-403341c3671b"
      },
      "source": [
        "# a function to scrape the lok sabha digital library and download the pdfs\n",
        "\n",
        "def scrape(path):\n",
        "\n",
        "  # extracting folder name and creating a folder in drive\n",
        "  folderName = path[-2:]\n",
        "\n",
        "  if folderName in os.listdir(\"/content/drive/MyDrive/Lok Sabha Data\"):\n",
        "    print(folderName, \" already present\")\n",
        "    \n",
        "  else:\n",
        "    folderPath = \"/content/drive/MyDrive/Lok Sabha Data/\" + folderName + \"/\"\n",
        "    os.makedirs(folderPath)\n",
        "\n",
        "    url = path\n",
        "    links = []\n",
        "\n",
        "    while url != None:\n",
        "      req = requests.get(url)\n",
        "      soup = BeautifulSoup(req.content, 'html.parser')\n",
        "\n",
        "      # trying to fetch all the intermediate urls to the target pdfs\n",
        "      table = soup.find('table', attrs = {'summary':'This table browses all dspace content'})\n",
        "      for row in table.findAll('td', attrs = {'headers':'t4'}):\n",
        "        if(row.a != None):\n",
        "          link = row.a['href']\n",
        "          links.append(\"https://eparlib.nic.in\"+link)\n",
        "      \n",
        "      url = soup.find('a', attrs = {'class' : 'pull-right'})\n",
        "      if url != None:\n",
        "        url = \"https://eparlib.nic.in\" + url['href']\n",
        "    \n",
        "    # get to the pdf from here on\n",
        "    for number,link in enumerate(links):\n",
        "      req = requests.get(link)\n",
        "      soup = BeautifulSoup(req.content, 'html.parser')\n",
        "\n",
        "      table = soup.find('table', attrs = {'class' : 'table panel-body'})\n",
        "      for row in table.findAll('td', attrs = {'align':'center'}):\n",
        "        if(row.a != None):\n",
        "          pdfLink = row.a['href']\n",
        "          pdfLink = \"https://eparlib.nic.in\" + pdfLink\n",
        "\n",
        "          # extracting and saving the pdfs\n",
        "          try:\n",
        "            pdfReq = requests.get(pdfLink)\n",
        "            pdfName = str(number+1)\n",
        "            pdfPath = folderPath + pdfName + \".pdf\"\n",
        "            with open(pdfPath, 'wb') as f:\n",
        "              f.write(pdfReq.content)\n",
        "\n",
        "          except requests.exceptions.HTTPError as errh:\n",
        "              print(\"Http Error:\",errh)\n",
        "              print(\"Number : \", pdfName)\n",
        "          except requests.exceptions.ConnectionError as errc:\n",
        "              print(\"Error Connecting:\",errc)\n",
        "              print(\"Number : \", pdfName)\n",
        "          except requests.exceptions.Timeout as errt:\n",
        "              print(\"Timeout Error:\",errt)\n",
        "              print(\"Number : \", pdfName)\n",
        "          except requests.exceptions.RequestException as err:\n",
        "              print(\"OOps: Something Else\",err)\n",
        "              print(\"Number : \", pdfName)\n",
        "\n",
        "          \n",
        "\n",
        "    print(\"Done with \", folderName)\n",
        "\n",
        "\n",
        "\n",
        "if __name__ == '__main__':\n",
        "    \n",
        "  pool = multiprocessing.Pool()\n",
        "  pool = multiprocessing.Pool(processes=2)\n",
        "  \n",
        "  paths = [\n",
        "         \"https://eparlib.nic.in/handle/123456789/6/browse?type=loksabhanumber&sort_by=1&order=DESC&rpp=20&value=01\",\n",
        "         \"https://eparlib.nic.in/handle/123456789/6/browse?type=loksabhanumber&sort_by=1&order=DESC&rpp=20&value=02\",\n",
        "         \"https://eparlib.nic.in/handle/123456789/6/browse?type=loksabhanumber&sort_by=1&order=DESC&rpp=20&value=03\",\n",
        "         \"https://eparlib.nic.in/handle/123456789/6/browse?type=loksabhanumber&sort_by=1&order=DESC&rpp=20&value=04\",\n",
        "         \"https://eparlib.nic.in/handle/123456789/6/browse?type=loksabhanumber&sort_by=1&order=DESC&rpp=20&value=05\",\n",
        "         \"https://eparlib.nic.in/handle/123456789/6/browse?type=loksabhanumber&sort_by=1&order=DESC&rpp=20&value=06\",\n",
        "         \"https://eparlib.nic.in/handle/123456789/6/browse?type=loksabhanumber&sort_by=1&order=DESC&rpp=20&value=07\",\n",
        "         \"https://eparlib.nic.in/handle/123456789/6/browse?type=loksabhanumber&sort_by=1&order=DESC&rpp=20&value=08\",\n",
        "         \"https://eparlib.nic.in/handle/123456789/6/browse?type=loksabhanumber&sort_by=1&order=DESC&rpp=20&value=09\",\n",
        "         \"https://eparlib.nic.in/handle/123456789/6/browse?type=loksabhanumber&sort_by=1&order=DESC&rpp=20&value=10\",\n",
        "         \"https://eparlib.nic.in/handle/123456789/6/browse?type=loksabhanumber&sort_by=1&order=DESC&rpp=20&value=11\",\n",
        "         \"https://eparlib.nic.in/handle/123456789/6/browse?type=loksabhanumber&sort_by=1&order=DESC&rpp=20&value=12\",\n",
        "         \"https://eparlib.nic.in/handle/123456789/6/browse?type=loksabhanumber&sort_by=1&order=DESC&rpp=20&value=13\",\n",
        "         \"https://eparlib.nic.in/handle/123456789/6/browse?type=loksabhanumber&sort_by=1&order=DESC&rpp=20&value=14\",\n",
        "         \"https://eparlib.nic.in/handle/123456789/6/browse?type=loksabhanumber&sort_by=1&order=DESC&rpp=20&value=15\",\n",
        "         \"https://eparlib.nic.in/handle/123456789/6/browse?type=loksabhanumber&sort_by=1&order=DESC&rpp=20&value=16\",\n",
        "         \"https://eparlib.nic.in/handle/123456789/6/browse?type=loksabhanumber&sort_by=1&order=DESC&rpp=20&value=17\"\n",
        "  ]\n",
        "\n",
        "  pool.map(scrape, paths)"
      ],
      "execution_count": null,
      "outputs": [
        {
          "output_type": "stream",
          "name": "stdout",
          "text": [
            "01  already present\n",
            "02  already present\n",
            "04  already present\n",
            "03  already present\n",
            "07  already present\n",
            "08  already present\n",
            "09  already present\n",
            "10  already present\n",
            "11  already present\n",
            "12  already present\n",
            "13  already present\n",
            "14  already present\n",
            "15  already present\n",
            "16  already present\n",
            "17  already present\n",
            "Error Connecting: ('Connection aborted.', RemoteDisconnected('Remote end closed connection without response'))\n",
            "Number :  258\n",
            "Error Connecting: ('Connection aborted.', RemoteDisconnected('Remote end closed connection without response'))\n",
            "Number :  260\n",
            "Error Connecting: ('Connection aborted.', RemoteDisconnected('Remote end closed connection without response'))\n",
            "Number :  270\n",
            "Done with  05\n",
            "06  already present\n"
          ]
        }
      ]
    }
  ]
}